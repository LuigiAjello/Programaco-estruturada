{
 "cells": [
  {
   "cell_type": "code",
   "execution_count": 1,
   "metadata": {},
   "outputs": [
    {
     "name": "stdout",
     "output_type": "stream",
     "text": [
      "3.0\n"
     ]
    }
   ],
   "source": [
    "#Calcular area de triangulo - exerc 1 - pag 50 \n",
    "base = float(input(\"Digite o valor da base ?\"))\n",
    "altura = float(input(\"Digite o valor da altura ?\"))\n",
    "area = (base * altura)/2\n",
    "print (area)\n"
   ]
  },
  {
   "cell_type": "code",
   "execution_count": 5,
   "metadata": {},
   "outputs": [
    {
     "name": "stdout",
     "output_type": "stream",
     "text": [
      "18.84\n"
     ]
    }
   ],
   "source": [
    "#calcular comprimento de circunferência - exerc 2 -pag 51\n",
    "raio = float(input(\"Digite o valor do raio ?\"))\n",
    "comprimento= 2*3.14*raio\n",
    "print(comprimento)\n"
   ]
  },
  {
   "cell_type": "code",
   "execution_count": null,
   "metadata": {},
   "outputs": [],
   "source": [
    "# soma e produto de dois numeros - exerc 3 - pag 51\n",
    "num1 = float(input(\"Digite o valor 1\"))\n",
    "num2 = float(input(\"Digite o valor 2\"))\n",
    "soma = num1 + num2\n",
    "produto = num1 * num2 \n",
    "print(soma)\n",
    "print(produto)"
   ]
  },
  {
   "cell_type": "code",
   "execution_count": null,
   "metadata": {},
   "outputs": [],
   "source": [
    "# converte o valor de uma ve- locidade média em km/h para m/s - exerc 4 - pag 51 \n",
    "velmedia = float(input(\"Digite a velociddade media em km/h\"))\n",
    "convercao = velmedia*3.6\n",
    "print(convercao)\n"
   ]
  },
  {
   "cell_type": "code",
   "execution_count": 6,
   "metadata": {},
   "outputs": [
    {
     "name": "stdout",
     "output_type": "stream",
     "text": [
      "2.23606797749979\n"
     ]
    }
   ],
   "source": [
    "# Distância entre dois pontos - exerc 5 - pag 51\n",
    "from math import sqrt\n",
    "x1 = float(input(\"Digite o x1\"))\n",
    "y1 = float(input(\"Digite o y1\"))\n",
    "x2 = float(input(\"Digite o x2\"))\n",
    "y2 = float(input(\"Digite o y2\"))\n",
    "distancia = sqrt(((x2-x1)**2) + ((y2-y1)**2))\n",
    "print(distancia)"
   ]
  },
  {
   "cell_type": "code",
   "execution_count": null,
   "metadata": {},
   "outputs": [],
   "source": [
    "# Equacao 2 grau -exerc 6 - pag 52 \n",
    "import math\n",
    "a = float(input(\"Digite o valor de a: \"))\n",
    "b = float(input(\"Digite o valor de b: \"))\n",
    "c = float(input(\"Digite o valor de c: \"))\n",
    "delta = b ** 2 - 4 * a * c\n",
    "print(\"O valor de delta (∆) é:\", delta)\n",
    "if delta >= 0:\n",
    "    raiz_delta = math.sqrt(delta)\n",
    "    x1 = (-b + raiz_delta) / (2 * a)\n",
    "    x2 = (-b - raiz_delta) / (2 * a)\n",
    "    if delta == 0:\n",
    "        print(\"A equação possui uma raiz real:\", x1)\n",
    "    else:\n",
    "        print(\"As raízes da equação são:\", x1, \"e\", x2)\n",
    "else:\n",
    "    print(\"A equação não possui raízes reais.\")\n"
   ]
  },
  {
   "cell_type": "code",
   "execution_count": null,
   "metadata": {},
   "outputs": [],
   "source": [
    "#salario final - exerc 7 - pag 52\n",
    "nome_corretor = input(\"Digite o nome do corretor: \")\n",
    "quantidade_imoveis_vendidos = int(input(\"Digite a quantidade de imóveis vendidos: \"))\n",
    "valor_total_vendas = float(input(\"Digite o valor total das vendas: \"))\n",
    "salario_base = 1500.00\n",
    "comissao_por_imovel = 200.00\n",
    "comissao_por_venda = 0.05 * valor_total_vendas\n",
    "salario_final = salario_base + quantidade_imoveis_vendidos * comissao_por_imovel + comissao_por_venda\n",
    "print(\"O salário final do corretor\", nome_corretor, \"é R$\", salario_final)\n"
   ]
  },
  {
   "cell_type": "code",
   "execution_count": null,
   "metadata": {},
   "outputs": [],
   "source": [
    "#Quantidade de salários mínimos recebidos pelo usuário - exerc 8 - pag 52\n",
    "salario_minimo = float(input(\"Digite o valor do salário mínimo atual: \"))\n",
    "salario_mensal = float(input(\"Digite o valor do seu salário mensal: \"))\n",
    "\n",
    "quantidade_salarios_minimos = salario_mensal / salario_minimo\n",
    "\n",
    "print(\"Você recebe aproximadamente\", quantidade_salarios_minimos, \"salários mínimos.\")\n",
    "\n"
   ]
  },
  {
   "cell_type": "code",
   "execution_count": null,
   "metadata": {},
   "outputs": [],
   "source": [
    "#cubo e e media geo - exerc 9 - pag 52\n",
    "numero1 = int(input(\"Digite o primeiro número inteiro positivo: \"))\n",
    "numero2 = int(input(\"Digite o segundo número inteiro positivo: \"))\n",
    "\n",
    "cubo_numero2 = numero2 ** 3\n",
    "media_geometrica = (numero1 * numero2) ** 0.5\n",
    "\n",
    "print(\"O cubo do segundo número é:\", cubo_numero2)\n",
    "print(\"A média geométrica entre os dois números é:\", media_geometrica)\n"
   ]
  },
  {
   "cell_type": "code",
   "execution_count": null,
   "metadata": {},
   "outputs": [],
   "source": [
    "#trocar suco sem misturar o copo - exerc 10 - pag 53\n",
    "copo1 = \"laranja\"\n",
    "copo2 = \"acerola\"\n",
    "\n",
    "temp = copo1\n",
    "copo1 = copo2\n",
    "copo2 = temp\n",
    "\n",
    "print(\"No copo1 está:\", copo1)\n",
    "print(\"No copo2 está:\", copo2)\n"
   ]
  }
 ],
 "metadata": {
  "kernelspec": {
   "display_name": "Python 3",
   "language": "python",
   "name": "python3"
  },
  "language_info": {
   "codemirror_mode": {
    "name": "ipython",
    "version": 3
   },
   "file_extension": ".py",
   "mimetype": "text/x-python",
   "name": "python",
   "nbconvert_exporter": "python",
   "pygments_lexer": "ipython3",
   "version": "3.11.8"
  }
 },
 "nbformat": 4,
 "nbformat_minor": 2
}
